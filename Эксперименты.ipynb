{
 "cells": [
  {
   "cell_type": "markdown",
   "id": "7aa23b4f",
   "metadata": {},
   "source": [
    "Загрузка модели и датасета"
   ]
  },
  {
   "cell_type": "code",
   "execution_count": 4,
   "id": "13cba3c1",
   "metadata": {},
   "outputs": [
    {
     "name": "stdout",
     "output_type": "stream",
     "text": [
      "Collecting annoy\n",
      "  Using cached annoy-1.17.3-cp39-cp39-win_amd64.whl\n",
      "Installing collected packages: annoy\n"
     ]
    },
    {
     "name": "stderr",
     "output_type": "stream",
     "text": [
      "WARNING: Ignoring invalid distribution -orch (c:\\users\\new\\appdata\\roaming\\python\\python39\\site-packages)\n",
      "WARNING: Ignoring invalid distribution -orch (c:\\users\\new\\appdata\\roaming\\python\\python39\\site-packages)\n",
      "WARNING: Ignoring invalid distribution -qdm (d:\\anaconda\\envs\\uv_net\\lib\\site-packages)\n",
      "WARNING: Ignoring invalid distribution -orch (c:\\users\\new\\appdata\\roaming\\python\\python39\\site-packages)\n",
      "WARNING: Ignoring invalid distribution -qdm (d:\\anaconda\\envs\\uv_net\\lib\\site-packages)\n",
      "DEPRECATION: vtk -PKG-VERSION has a non-standard version number. pip 23.3 will enforce this behaviour change. A possible replacement is to upgrade to a newer version of vtk or contact the author to suggest that they release a version with a conforming version number. Discussion can be found at https://github.com/pypa/pip/issues/12063\n",
      "ERROR: Could not install packages due to an OSError: [WinError 32] Процесс не может получить доступ к файлу, так как этот файл занят другим процессом: 'D:\\\\Anaconda\\\\envs\\\\uv_net\\\\Lib\\\\site-packages\\\\annoy\\\\__init__.py'\n",
      "Consider using the `--user` option or check the permissions.\n",
      "\n",
      "WARNING: Ignoring invalid distribution -orch (c:\\users\\new\\appdata\\roaming\\python\\python39\\site-packages)\n",
      "WARNING: Ignoring invalid distribution -orch (c:\\users\\new\\appdata\\roaming\\python\\python39\\site-packages)\n",
      "WARNING: Ignoring invalid distribution -orch (c:\\users\\new\\appdata\\roaming\\python\\python39\\site-packages)\n"
     ]
    }
   ],
   "source": [
    "!pip install annoy"
   ]
  },
  {
   "cell_type": "code",
   "execution_count": 1,
   "id": "3a1bc814",
   "metadata": {},
   "outputs": [],
   "source": [
    "%load_ext autoreload\n",
    "%autoreload 2\n",
    "\n",
    "import numpy as np\n",
    "import pandas as pd\n",
    "\n",
    "import pathlib\n",
    "import string\n",
    "import os\n",
    "import sys\n",
    "module_path = os.path.abspath(os.path.join('..'))\n",
    "if module_path not in sys.path:\n",
    "    sys.path.append(module_path)\n",
    "\n",
    "import torch\n",
    "\n",
    "from sklearn.model_selection import train_test_split\n",
    "from sklearn.neighbors import KDTree\n",
    "\n",
    "from base import BaseDataset\n",
    "from models import Segmentation\n",
    "\n",
    "import methods\n",
    "\n",
    "class AttrDict(dict):\n",
    "    __getattr__ = dict.__getitem__\n",
    "    __setattr__ = dict.__setitem__\n",
    "    __delattr__ = dict.__delitem__"
   ]
  },
  {
   "cell_type": "code",
   "execution_count": 2,
   "id": "b704aa67",
   "metadata": {},
   "outputs": [],
   "source": [
    "def sample_from_letter(fnm_list, n_items, case = None):\n",
    "    #case: ('lower','upper')\n",
    "    df = pd.DataFrame()\n",
    "    df['fname'] = [fnm.split('.')[0] for fnm in fnm_list]\n",
    "    spl = df.fname.str.split('_')\n",
    "    df['letter'] = spl.apply(lambda x: x[0])\n",
    "    df['case'] = spl.apply(lambda x: x[-1])\n",
    "    df['class'] = df['letter']+df['case']\n",
    "    df['class'] = pd.Categorical(df['class'])\n",
    "    df['label'] = df['class'].cat.codes    \n",
    "\n",
    "    n_classes = df['class'].nunique()\n",
    "    \n",
    "    if case is not None:\n",
    "        df = df[df.case == case]\n",
    "    samples = df.groupby('label').apply(lambda x: x.sample(n_items))\n",
    "    fnm_labels = samples[['fname','label']].set_index('fname').label.to_dict()\n",
    "    return n_classes, fnm_labels\n",
    "\n",
    "class RankingDataset(BaseDataset):\n",
    "    @staticmethod\n",
    "    def num_classes():\n",
    "        return self.num_classes\n",
    "\n",
    "    def __init__(\n",
    "        self,\n",
    "        root_dir,\n",
    "        fnm_labels,\n",
    "        num_classes,\n",
    "        _center_and_scale=True,\n",
    "        random_rotate=False,\n",
    "    ):\n",
    "        \"\"\"\n",
    "        Args:\n",
    "            _center_and_scale (bool, optional): Whether to center and scale the solid. Defaults to True.\n",
    "            random_rotate (bool, optional): Whether to apply random rotations to the solid in 90 degree increments. Defaults to False.\n",
    "        \"\"\"\n",
    "        # path = pathlib.Path(root_dir)\n",
    "        self.random_rotate = random_rotate\n",
    "        self.num_classes = num_classes\n",
    "        \n",
    "        self.lbs = fnm_labels\n",
    "\n",
    "        file_paths = [pathlib.Path(root_dir+fnm+'.bin') for fnm in fnm_labels.keys()]\n",
    "        print(file_paths[0], file_paths[0].exists())\n",
    "        self.load_graphs(file_paths, _center_and_scale)\n",
    "        print(\"Done loading {} files\".format(len(self.data)))\n",
    "\n",
    "    def load_one_graph(self, file_path):\n",
    "        # Load the graph using base class method\n",
    "        sample = super().load_one_graph(file_path)\n",
    "        # Additionally get the label from the filename and store it in the sample dict\n",
    "\n",
    "        sample[\"label\"] = torch.tensor([self.lbs[str(file_path.stem)]]).long()\n",
    "        return sample\n",
    "\n",
    "    def _collate(self, batch):\n",
    "        collated = super()._collate(batch)\n",
    "        collated[\"label\"] =  torch.cat([x[\"label\"] for x in batch], dim=0)\n",
    "        return collated"
   ]
  },
  {
   "cell_type": "code",
   "execution_count": 3,
   "id": "63d007ea",
   "metadata": {},
   "outputs": [
    {
     "name": "stderr",
     "output_type": "stream",
     "text": [
      "D:\\Anaconda\\Lib\\site-packages\\deprecate\\deprecation.py:115: FutureWarning: The `IoU` was deprecated since v0.7 in favor of `torchmetrics.classification.jaccard.JaccardIndex`. It will be removed in v0.8.\n",
      "  stream(template_mgs % msg_args)\n"
     ]
    }
   ],
   "source": [
    "args = AttrDict({})\n",
    "args.batch_size = 128\n",
    "args.random_rotate = False\n",
    "args.num_workers = 0\n",
    "args.checkpoint = 'D:/NIR/results/segmentation100/0925/222631/best.ckpt'\n",
    "device = torch.device('cpu:0')\n",
    "\n",
    "model = Segmentation.load_from_checkpoint(args.checkpoint).model.to(device = device)"
   ]
  },
  {
   "cell_type": "code",
   "execution_count": 4,
   "id": "4d45d480",
   "metadata": {},
   "outputs": [
    {
     "name": "stdout",
     "output_type": "stream",
     "text": [
      "D:\\NIR\\SolidLetters\\graph_with_eattr\\a_Squada One_lower.bin True\n"
     ]
    },
    {
     "name": "stderr",
     "output_type": "stream",
     "text": [
      "  0%|                                                                                         | 0/2600 [00:00<?, ?it/s]D:\\Anaconda\\Lib\\site-packages\\dgl\\data\\graph_serialize.py:189: DGLWarning: You are loading a graph file saved by old version of dgl.              Please consider saving it again with the current format.\n",
      "  dgl_warning(\n",
      "100%|██████████████████████████████████████████████████████████████████████████████| 2600/2600 [00:28<00:00, 89.72it/s]\n"
     ]
    },
    {
     "name": "stdout",
     "output_type": "stream",
     "text": [
      "Done loading 2600 files\n",
      "D:\\NIR\\SolidLetters\\graph_with_eattr\\a_Piedra_upper.bin True\n"
     ]
    },
    {
     "name": "stderr",
     "output_type": "stream",
     "text": [
      "  0%|                                                                                         | 0/2600 [00:00<?, ?it/s]D:\\Anaconda\\Lib\\site-packages\\dgl\\data\\graph_serialize.py:189: DGLWarning: You are loading a graph file saved by old version of dgl.              Please consider saving it again with the current format.\n",
      "  dgl_warning(\n",
      "100%|██████████████████████████████████████████████████████████████████████████████| 2600/2600 [00:31<00:00, 82.59it/s]\n"
     ]
    },
    {
     "name": "stdout",
     "output_type": "stream",
     "text": [
      "Done loading 2600 files\n"
     ]
    }
   ],
   "source": [
    "fnm_list = os.listdir('D:/NIR/SolidLetters/graph_with_eattr')\n",
    "N_ITEMS_PER_CLASS = 100\n",
    "\n",
    "# creating loaders for SolidLetters dataset quering\n",
    "test_loaders = []\n",
    "for case in ('lower', 'upper'):\n",
    "    ncl, fnm_labels = sample_from_letter(fnm_list, N_ITEMS_PER_CLASS, case)\n",
    "    dset = RankingDataset('D:/NIR/SolidLetters/graph_with_eattr/', \n",
    "                           fnm_labels, \n",
    "                           ncl)\n",
    "    test_loaders.append(dset.get_dataloader(batch_size=args.batch_size, shuffle=False, num_workers=args.num_workers))"
   ]
  },
  {
   "cell_type": "markdown",
   "id": "3b85563e",
   "metadata": {},
   "source": [
    "Получение векторных представлений"
   ]
  },
  {
   "cell_type": "code",
   "execution_count": 5,
   "id": "71e05a4e",
   "metadata": {},
   "outputs": [],
   "source": [
    "def encode(model, loader, device):\n",
    "    embs_list = []\n",
    "    labels_list = []\n",
    "    with torch.no_grad():  \n",
    "        for batch in loader:\n",
    "            inputs = batch[\"graph\"].to(device)\n",
    "            inputs.ndata[\"x\"] = inputs.ndata[\"x\"].permute(0, 3, 1, 2)\n",
    "            inputs.edata[\"x\"] = inputs.edata[\"x\"].permute(0, 2, 1)\n",
    "            embs_list.append(model.encode_part(inputs).to(device=torch.device('cpu'))) \n",
    "            labels_list.append(batch[\"label\"].to(device=torch.device('cpu')))\n",
    "    return embs_list, labels_list\n",
    "#переделать (возвращает только для части букв)\n",
    "def get_embs(test_loaders, model, device):\n",
    "    model = model.eval()\n",
    "    metr = []\n",
    "    for loader in test_loaders:\n",
    "        e_list, l_list = encode(model, loader, device)\n",
    "        embs = torch.cat(e_list,dim=0).numpy()\n",
    "        lbs = torch.cat(l_list,dim=0).numpy()\n",
    "    return embs, lbs"
   ]
  },
  {
   "cell_type": "markdown",
   "id": "8c93cef4",
   "metadata": {},
   "source": [
    "Поиск похожих"
   ]
  },
  {
   "cell_type": "code",
   "execution_count": 6,
   "id": "986483a0",
   "metadata": {},
   "outputs": [],
   "source": [
    "class SearchSimilarModels:\n",
    "    def __init__(self):\n",
    "        pass\n",
    "    \n",
    "    def cals_map_all(self, test_loaders, model, device):\n",
    "        model = model.eval()\n",
    "        metr = []\n",
    "        for loader in test_loaders:\n",
    "            e_list, l_list = encode(model, loader, device)\n",
    "            embs = torch.cat(e_list,dim=0).numpy()\n",
    "            lbs = torch.cat(l_list,dim=0).numpy()\n",
    "            metr.append(calc_map(embs, lbs))\n",
    "        return np.mean(metr)\n",
    "\n",
    "    def calc_map(self, X, labels, K = 5):\n",
    "#         tree = KDTree(X, leaf_size=40)  # creating kd tree\n",
    "#         _, ind = tree.query(X, k=K+1)  # quering nearest items\n",
    "\n",
    "        is_valid_label = (labels[ind[:,1:]] == labels.reshape(-1,1)).astype(int)\n",
    "\n",
    "        cum_sum = np.cumsum(is_valid_label, axis=1)\n",
    "        P_K = cum_sum/np.arange(1, K+1).reshape(1,-1)\n",
    "        AP_K = P_K.sum(axis=1) / np.clip(cum_sum[:,-1],1, K)\n",
    "\n",
    "        return AP_K.mean()"
   ]
  },
  {
   "cell_type": "code",
   "execution_count": 7,
   "id": "3178069b",
   "metadata": {},
   "outputs": [],
   "source": [
    "dataset, label = get_embs(test_loaders, model, device)"
   ]
  },
  {
   "cell_type": "code",
   "execution_count": 8,
   "id": "0ede9d62",
   "metadata": {},
   "outputs": [],
   "source": [
    "K=5"
   ]
  },
  {
   "cell_type": "markdown",
   "id": "44fc1656",
   "metadata": {},
   "source": [
    "### Sk learn KD-Tree"
   ]
  },
  {
   "cell_type": "code",
   "execution_count": 9,
   "id": "0c20109b",
   "metadata": {},
   "outputs": [
    {
     "data": {
      "text/plain": [
       "0.7365597873263889"
      ]
     },
     "execution_count": 9,
     "metadata": {},
     "output_type": "execute_result"
    }
   ],
   "source": [
    "tree = KDTree(dataset, leaf_size=40)  # creating kd tree\n",
    "_, ind = tree.query(dataset, k=K+1)# quering nearest items\n",
    "search = SearchSimilarModels()\n",
    "search.calc_map(ind, label)"
   ]
  },
  {
   "cell_type": "markdown",
   "id": "416a812f",
   "metadata": {},
   "source": [
    "### KD-Tree with cosine distance"
   ]
  },
  {
   "cell_type": "code",
   "execution_count": 37,
   "id": "1d34d32b",
   "metadata": {},
   "outputs": [
    {
     "data": {
      "text/plain": [
       "0.6659326171875"
      ]
     },
     "execution_count": 37,
     "metadata": {},
     "output_type": "execute_result"
    }
   ],
   "source": [
    "#задавать число соседей самим в кд три\n",
    "cosine_tree = methods.KDTree(dataset)\n",
    "ind = cosine_tree.search(dataset)\n",
    "search.calc_map(ind, label)"
   ]
  },
  {
   "cell_type": "markdown",
   "id": "d39fd1f0",
   "metadata": {},
   "source": [
    "### KNN with cosine distance"
   ]
  },
  {
   "cell_type": "code",
   "execution_count": 14,
   "id": "a0cfabc1",
   "metadata": {},
   "outputs": [
    {
     "data": {
      "text/plain": [
       "0.7525330946180555"
      ]
     },
     "execution_count": 14,
     "metadata": {},
     "output_type": "execute_result"
    }
   ],
   "source": [
    "cosine_knn = methods.DistributedCosineKnn(K)\n",
    "ind, _ = cosine_knn.fit(dataset)\n",
    "search.calc_map(ind, label)"
   ]
  },
  {
   "cell_type": "markdown",
   "id": "7cad57b4",
   "metadata": {},
   "source": [
    "### HNSW"
   ]
  },
  {
   "cell_type": "code",
   "execution_count": 15,
   "id": "d830610c",
   "metadata": {},
   "outputs": [
    {
     "data": {
      "text/plain": [
       "0.7383924696180555"
      ]
     },
     "execution_count": 15,
     "metadata": {},
     "output_type": "execute_result"
    }
   ],
   "source": [
    "hnsw = methods.HNSW(dataset)\n",
    "ind = hnsw.search(dataset, dataset, K+1)\n",
    "search.calc_map(ind, label)"
   ]
  },
  {
   "cell_type": "markdown",
   "id": "1b0d01ff",
   "metadata": {},
   "source": [
    "### Понижение размерности PCA"
   ]
  },
  {
   "cell_type": "code",
   "execution_count": 16,
   "id": "d0b37cca",
   "metadata": {},
   "outputs": [],
   "source": [
    "from sklearn.decomposition import PCA"
   ]
  },
  {
   "cell_type": "code",
   "execution_count": 17,
   "id": "57e9e133",
   "metadata": {},
   "outputs": [],
   "source": [
    "transformer = PCA(n_components=100)\n",
    "pca_data = transformer.fit_transform(dataset)"
   ]
  },
  {
   "cell_type": "code",
   "execution_count": 18,
   "id": "4ecf2a90",
   "metadata": {},
   "outputs": [
    {
     "data": {
      "text/plain": [
       "0.7357188585069444"
      ]
     },
     "execution_count": 18,
     "metadata": {},
     "output_type": "execute_result"
    }
   ],
   "source": [
    "tree = KDTree(pca_data, leaf_size=40)  # creating kd tree\n",
    "_, ind = tree.query(pca_data, k=K+1)# quering nearest items\n",
    "search = SearchSimilarModels()\n",
    "search.calc_map(ind, label)"
   ]
  },
  {
   "cell_type": "code",
   "execution_count": 20,
   "id": "051e945d",
   "metadata": {},
   "outputs": [
    {
     "data": {
      "text/plain": [
       "0.6768950737847221"
      ]
     },
     "execution_count": 20,
     "metadata": {},
     "output_type": "execute_result"
    }
   ],
   "source": [
    "cosine_tree = methods.KDTree(pca_data, 0)\n",
    "ind = cosine_tree.search(pca_data)\n",
    "search.calc_map(ind, label)"
   ]
  },
  {
   "cell_type": "code",
   "execution_count": 21,
   "id": "0ff3ca9a",
   "metadata": {},
   "outputs": [
    {
     "data": {
      "text/plain": [
       "0.7376969401041666"
      ]
     },
     "execution_count": 21,
     "metadata": {},
     "output_type": "execute_result"
    }
   ],
   "source": [
    "cosine_knn = methods.DistributedCosineKnn(K)\n",
    "ind, _ = cosine_knn.fit(pca_data)\n",
    "search.calc_map(ind, label)"
   ]
  },
  {
   "cell_type": "code",
   "execution_count": 22,
   "id": "f4ad3e49",
   "metadata": {},
   "outputs": [
    {
     "data": {
      "text/plain": [
       "0.732473415798611"
      ]
     },
     "execution_count": 22,
     "metadata": {},
     "output_type": "execute_result"
    }
   ],
   "source": [
    "hnsw = methods.HNSW(pca_data)\n",
    "ind = hnsw.search(pca_data, pca_data, K+1)\n",
    "search.calc_map(ind, label)"
   ]
  },
  {
   "cell_type": "markdown",
   "id": "8d35768c",
   "metadata": {},
   "source": [
    "### Понижение размерности TSNE"
   ]
  },
  {
   "cell_type": "code",
   "execution_count": 23,
   "id": "322e7453",
   "metadata": {},
   "outputs": [],
   "source": [
    "from sklearn.manifold import TSNE"
   ]
  },
  {
   "cell_type": "code",
   "execution_count": 31,
   "id": "b18202ee",
   "metadata": {},
   "outputs": [],
   "source": [
    "X_embedded = TSNE(n_components=3, learning_rate='auto', metric='cosine', init='pca', perplexity=1).fit_transform(dataset)"
   ]
  },
  {
   "cell_type": "code",
   "execution_count": 25,
   "id": "824da4f2",
   "metadata": {},
   "outputs": [
    {
     "data": {
      "text/plain": [
       "0.8068359375"
      ]
     },
     "execution_count": 25,
     "metadata": {},
     "output_type": "execute_result"
    }
   ],
   "source": [
    "tree = KDTree(X_embedded, leaf_size=40)  # creating kd tree\n",
    "_, ind = tree.query(X_embedded, k=K+1)# quering nearest items\n",
    "search = SearchSimilarModels()\n",
    "search.calc_map(ind, label)"
   ]
  },
  {
   "cell_type": "code",
   "execution_count": 48,
   "id": "6096a3d2",
   "metadata": {},
   "outputs": [
    {
     "data": {
      "text/plain": [
       "0.878408203125"
      ]
     },
     "execution_count": 48,
     "metadata": {},
     "output_type": "execute_result"
    }
   ],
   "source": [
    "cosine_tree = methods.KDTree(X_embedded, 0)\n",
    "ind = cosine_tree.search(X_embedded)\n",
    "search.calc_map(ind, label)"
   ]
  },
  {
   "cell_type": "code",
   "execution_count": 27,
   "id": "a9f46e2e",
   "metadata": {},
   "outputs": [
    {
     "data": {
      "text/plain": [
       "0.828288302951389"
      ]
     },
     "execution_count": 27,
     "metadata": {},
     "output_type": "execute_result"
    }
   ],
   "source": [
    "cosine_knn = methods.DistributedCosineKnn(K)\n",
    "ind, _ = cosine_knn.fit(X_embedded)\n",
    "search.calc_map(ind, label)"
   ]
  },
  {
   "cell_type": "code",
   "execution_count": 28,
   "id": "1d087062",
   "metadata": {},
   "outputs": [
    {
     "data": {
      "text/plain": [
       "0.826755099826389"
      ]
     },
     "execution_count": 28,
     "metadata": {},
     "output_type": "execute_result"
    }
   ],
   "source": [
    "hnsw = methods.HNSW(X_embedded)\n",
    "ind = hnsw.search(X_embedded, X_embedded, K+1)\n",
    "search.calc_map(ind, label)"
   ]
  },
  {
   "cell_type": "markdown",
   "id": "5e707e12",
   "metadata": {},
   "source": [
    "# Нормализация"
   ]
  },
  {
   "cell_type": "code",
   "execution_count": 49,
   "id": "e8f00282",
   "metadata": {},
   "outputs": [],
   "source": [
    "from sklearn.preprocessing import Normalizer"
   ]
  },
  {
   "cell_type": "code",
   "execution_count": 50,
   "id": "b1c0be39",
   "metadata": {},
   "outputs": [],
   "source": [
    "transformer = Normalizer().fit(dataset)  # fit does nothing."
   ]
  },
  {
   "cell_type": "code",
   "execution_count": 51,
   "id": "1de3e48e",
   "metadata": {},
   "outputs": [],
   "source": [
    "data_norm_sklearn = transformer.transform(dataset)"
   ]
  },
  {
   "cell_type": "code",
   "execution_count": 52,
   "id": "4975f0c0",
   "metadata": {},
   "outputs": [],
   "source": [
    "X_embedded_norm_sklearn = TSNE(n_components=3, learning_rate='auto', metric='cosine', init='pca', perplexity=1).fit_transform(\n",
    "    data_norm_sklearn)"
   ]
  },
  {
   "cell_type": "code",
   "execution_count": 53,
   "id": "7d51e1e7",
   "metadata": {},
   "outputs": [
    {
     "data": {
      "text/plain": [
       "0.8111040581597223"
      ]
     },
     "execution_count": 53,
     "metadata": {},
     "output_type": "execute_result"
    }
   ],
   "source": [
    "tree = KDTree(X_embedded_norm_sklearn, leaf_size=40)  # creating kd tree\n",
    "_, ind = tree.query(X_embedded_norm_sklearn, k=K+1)# quering nearest items\n",
    "search = SearchSimilarModels()\n",
    "search.calc_map(ind, label)"
   ]
  },
  {
   "cell_type": "code",
   "execution_count": 54,
   "id": "bda66a99",
   "metadata": {},
   "outputs": [
    {
     "data": {
      "text/plain": [
       "0.8648779296874999"
      ]
     },
     "execution_count": 54,
     "metadata": {},
     "output_type": "execute_result"
    }
   ],
   "source": [
    "cosine_tree = methods.KDTree(X_embedded_norm_sklearn, 0)\n",
    "ind = cosine_tree.search(X_embedded_norm_sklearn)\n",
    "search.calc_map(ind, label)"
   ]
  },
  {
   "cell_type": "code",
   "execution_count": 55,
   "id": "160977a3",
   "metadata": {},
   "outputs": [
    {
     "data": {
      "text/plain": [
       "0.8233203124999999"
      ]
     },
     "execution_count": 55,
     "metadata": {},
     "output_type": "execute_result"
    }
   ],
   "source": [
    "cosine_knn = methods.DistributedCosineKnn(K)\n",
    "ind, _ = cosine_knn.fit(X_embedded_norm_sklearn)\n",
    "search.calc_map(ind, label)"
   ]
  },
  {
   "cell_type": "code",
   "execution_count": 56,
   "id": "3ad2f223",
   "metadata": {},
   "outputs": [
    {
     "data": {
      "text/plain": [
       "0.8050092230902777"
      ]
     },
     "execution_count": 56,
     "metadata": {},
     "output_type": "execute_result"
    }
   ],
   "source": [
    "hnsw = methods.HNSW(X_embedded_norm)\n",
    "ind = hnsw.search(X_embedded_norm, X_embedded_norm, K+1)\n",
    "search.calc_map(ind, label)"
   ]
  }
 ],
 "metadata": {
  "kernelspec": {
   "display_name": "Python 3 (ipykernel)",
   "language": "python",
   "name": "python3"
  },
  "language_info": {
   "codemirror_mode": {
    "name": "ipython",
    "version": 3
   },
   "file_extension": ".py",
   "mimetype": "text/x-python",
   "name": "python",
   "nbconvert_exporter": "python",
   "pygments_lexer": "ipython3",
   "version": "3.11.3"
  }
 },
 "nbformat": 4,
 "nbformat_minor": 5
}
