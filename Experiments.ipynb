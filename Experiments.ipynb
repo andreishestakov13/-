{
 "cells": [
  {
   "cell_type": "code",
   "execution_count": 9,
   "id": "3a1bc814",
   "metadata": {},
   "outputs": [
    {
     "name": "stdout",
     "output_type": "stream",
     "text": [
      "The autoreload extension is already loaded. To reload it, use:\n",
      "  %reload_ext autoreload\n"
     ]
    }
   ],
   "source": [
    "%load_ext autoreload\n",
    "%autoreload 2\n",
    "\n",
    "import numpy as np\n",
    "# import pandas as pd\n",
    "\n",
    "# import pathlib\n",
    "# import string\n",
    "import os\n",
    "import sys\n",
    "module_path = os.path.abspath(os.path.join('../NIR'))\n",
    "\n",
    "import torch\n",
    "\n",
    "from sklearn.neighbors import KDTree\n",
    "from numpy.linalg import norm\n",
    "from sklearn.decomposition import PCA\n",
    "from sklearn.manifold import TSNE\n",
    "\n",
    "from models import Segmentation\n",
    "\n",
    "import methods\n",
    "import embedding\n",
    "import loader\n",
    "import metric\n",
    "\n",
    "# class AttrDict(dict):\n",
    "#     __getattr__ = dict.__getitem__\n",
    "#     __setattr__ = dict.__setitem__\n",
    "#     __delattr__ = dict.__delitem__"
   ]
  },
  {
   "cell_type": "markdown",
   "id": "7aa23b4f",
   "metadata": {},
   "source": [
    "## Создание модели UV-Net Segmentation"
   ]
  },
  {
   "cell_type": "code",
   "execution_count": 2,
   "id": "361c0cc5",
   "metadata": {},
   "outputs": [
    {
     "name": "stderr",
     "output_type": "stream",
     "text": [
      "D:\\Anaconda\\Lib\\site-packages\\deprecate\\deprecation.py:115: FutureWarning: The `IoU` was deprecated since v0.7 in favor of `torchmetrics.classification.jaccard.JaccardIndex`. It will be removed in v0.8.\n",
      "  stream(template_mgs % msg_args)\n"
     ]
    }
   ],
   "source": [
    "checkpoint = 'D:/NIR/results/segmentation100/0925/222631/best.ckpt'\n",
    "device = torch.device('cpu:0')\n",
    "model = Segmentation.load_from_checkpoint(checkpoint).model.to(device = device)"
   ]
  },
  {
   "cell_type": "markdown",
   "id": "d022370a",
   "metadata": {},
   "source": [
    "## Загрузка датасета SolidLetters"
   ]
  },
  {
   "cell_type": "code",
   "execution_count": 3,
   "id": "c3e656d5",
   "metadata": {},
   "outputs": [
    {
     "name": "stdout",
     "output_type": "stream",
     "text": [
      "D:\\NIR\\SolidLetters\\graph_with_eattr\\a_Martel_lower.bin True\n"
     ]
    },
    {
     "name": "stderr",
     "output_type": "stream",
     "text": [
      "  0%|                                                                                         | 0/2600 [00:00<?, ?it/s]D:\\Anaconda\\Lib\\site-packages\\dgl\\data\\graph_serialize.py:189: DGLWarning: You are loading a graph file saved by old version of dgl.              Please consider saving it again with the current format.\n",
      "  dgl_warning(\n",
      "100%|██████████████████████████████████████████████████████████████████████████████| 2600/2600 [00:29<00:00, 87.06it/s]\n"
     ]
    },
    {
     "name": "stdout",
     "output_type": "stream",
     "text": [
      "Done loading 2600 files\n",
      "D:\\NIR\\SolidLetters\\graph_with_eattr\\a_Frijole_upper.bin True\n"
     ]
    },
    {
     "name": "stderr",
     "output_type": "stream",
     "text": [
      "  0%|                                                                                         | 0/2600 [00:00<?, ?it/s]D:\\Anaconda\\Lib\\site-packages\\dgl\\data\\graph_serialize.py:189: DGLWarning: You are loading a graph file saved by old version of dgl.              Please consider saving it again with the current format.\n",
      "  dgl_warning(\n",
      "100%|██████████████████████████████████████████████████████████████████████████████| 2600/2600 [00:26<00:00, 96.36it/s]\n"
     ]
    },
    {
     "name": "stdout",
     "output_type": "stream",
     "text": [
      "Done loading 2600 files\n"
     ]
    }
   ],
   "source": [
    "dataset = loader.get_loaders(model)"
   ]
  },
  {
   "cell_type": "markdown",
   "id": "3b85563e",
   "metadata": {},
   "source": [
    "## Получение векторных представлений"
   ]
  },
  {
   "cell_type": "code",
   "execution_count": 4,
   "id": "67861d02",
   "metadata": {},
   "outputs": [],
   "source": [
    "embs, label = embedding.get_embs(dataset, model, device)\n",
    "K=5"
   ]
  },
  {
   "cell_type": "markdown",
   "id": "8c93cef4",
   "metadata": {},
   "source": [
    "# Расчет метрики"
   ]
  },
  {
   "cell_type": "markdown",
   "id": "4d97d997",
   "metadata": {},
   "source": [
    "### L2-Нормализация"
   ]
  },
  {
   "cell_type": "code",
   "execution_count": 10,
   "id": "8837a263",
   "metadata": {},
   "outputs": [],
   "source": [
    "iteration = len(embs)\n",
    "norm_embs = []\n",
    "for i in range(iteration):\n",
    "    norms = norm(embs[i], axis=1)\n",
    "    norm_embs.append(embs[i] / norms[:, np.newaxis])"
   ]
  },
  {
   "cell_type": "markdown",
   "id": "1b0d01ff",
   "metadata": {},
   "source": [
    "### Понижение размерности PCA"
   ]
  },
  {
   "cell_type": "code",
   "execution_count": 11,
   "id": "e949fadb",
   "metadata": {},
   "outputs": [],
   "source": [
    "transformer = PCA(n_components=64)\n",
    "norm_pca = []\n",
    "for i in range(iteration):\n",
    "    norm_pca.append(transformer.fit_transform(norm_embs[i]))"
   ]
  },
  {
   "cell_type": "markdown",
   "id": "8d35768c",
   "metadata": {},
   "source": [
    "### Понижение размерности TSNE"
   ]
  },
  {
   "cell_type": "code",
   "execution_count": 12,
   "id": "b18202ee",
   "metadata": {},
   "outputs": [],
   "source": [
    "norm_tsne = []\n",
    "for i in range(iteration):\n",
    "    norm_tsne.append(TSNE(n_components=3, learning_rate='auto', metric='cosine', init='pca', perplexity=1)\n",
    "                     .fit_transform(norm_embs[i]))"
   ]
  },
  {
   "cell_type": "markdown",
   "id": "35330196",
   "metadata": {},
   "source": [
    "### Поиск ближайших KD-Tree cosine distance"
   ]
  },
  {
   "cell_type": "code",
   "execution_count": 13,
   "id": "2d1d62df",
   "metadata": {},
   "outputs": [],
   "source": [
    "norm_ind = []\n",
    "norm_pca_ind = []\n",
    "norm_tsne_ind = []\n",
    "for i in range(iteration):\n",
    "    cosine_tree = methods.KDTree(norm_embs[i], 0)\n",
    "    norm_ind.append(cosine_tree.search(norm_embs[i]))\n",
    "\n",
    "    cosine_tree = methods.KDTree(norm_pca[i], 0)\n",
    "    norm_pca_ind.append(cosine_tree.search(norm_pca[i]))\n",
    "\n",
    "    cosine_tree = methods.KDTree(norm_tsne[i], 0)\n",
    "    norm_tsne_ind.append(cosine_tree.search(norm_tsne[i]))"
   ]
  },
  {
   "cell_type": "markdown",
   "id": "b530dcff",
   "metadata": {},
   "source": [
    "### Метрика"
   ]
  },
  {
   "cell_type": "code",
   "execution_count": 14,
   "id": "399bb173",
   "metadata": {},
   "outputs": [
    {
     "name": "stdout",
     "output_type": "stream",
     "text": [
      "Исходные эмбеддинги - 0.7382552083333332\n",
      "PCA - 0.7346419270833333\n",
      "TSNE - 0.8526570638020834\n"
     ]
    }
   ],
   "source": [
    "norm_metric = metric.calc_map(norm_ind, label)\n",
    "norm_pca_metric = metric.calc_map(norm_pca_ind, label)\n",
    "norm_tsne_metric = metric.calc_map(norm_tsne_ind, label)\n",
    "print(\"Исходные эмбеддинги - %s\\nPCA - %s\\nTSNE - %s\" % (norm_metric, norm_pca_metric, norm_tsne_metric))"
   ]
  },
  {
   "cell_type": "markdown",
   "id": "d3e639b5",
   "metadata": {},
   "source": [
    "# HNSW vs KD-Tree vs Точный подсчет"
   ]
  },
  {
   "cell_type": "markdown",
   "id": "0972c5ee",
   "metadata": {},
   "source": [
    "## Точный подсчет"
   ]
  },
  {
   "cell_type": "code",
   "execution_count": 15,
   "id": "3056b08a",
   "metadata": {},
   "outputs": [],
   "source": [
    "acc_ind = []\n",
    "for i in range(iteration):\n",
    "    acc_count = norm_embs[i] @ norm_embs[i].T\n",
    "    acc_ind.append(metric.get_nearest_idxs(acc_count))\n",
    "acc_metr = metric.calc_map(acc_ind, label)"
   ]
  },
  {
   "cell_type": "markdown",
   "id": "485ab9bf",
   "metadata": {},
   "source": [
    "## KD-Tree"
   ]
  },
  {
   "cell_type": "code",
   "execution_count": 16,
   "id": "ef3743e1",
   "metadata": {},
   "outputs": [],
   "source": [
    "norm_kdtree_ind = []\n",
    "for i in range(iteration):\n",
    "    cosine_tree = methods.KDTree(norm_embs[i], 0)\n",
    "    norm_kdtree_ind.append(cosine_tree.search(norm_embs[i]))\n",
    "kd_tree_metr = metric.calc_map(norm_kdtree_ind, label)"
   ]
  },
  {
   "cell_type": "markdown",
   "id": "d9f791cf",
   "metadata": {},
   "source": [
    "## HNSW"
   ]
  },
  {
   "cell_type": "code",
   "execution_count": 17,
   "id": "c1458f67",
   "metadata": {},
   "outputs": [],
   "source": [
    "ind = []\n",
    "for i in range(iteration):\n",
    "    hnsw = methods.HNSW(norm_embs[i])\n",
    "    ind.append(hnsw.search(norm_embs[i], norm_embs[i], K+1))\n",
    "hnsw_metr = metric.calc_map(ind, label)"
   ]
  },
  {
   "cell_type": "markdown",
   "id": "baa30a00",
   "metadata": {},
   "source": [
    "## Метрика"
   ]
  },
  {
   "cell_type": "code",
   "execution_count": 18,
   "id": "566cbd8c",
   "metadata": {},
   "outputs": [
    {
     "name": "stdout",
     "output_type": "stream",
     "text": [
      "Точный подсчет - 0.7399457465277778\n",
      "KD-Tree - 0.7382552083333332\n",
      "HNSW - 0.7328995768229166\n"
     ]
    }
   ],
   "source": [
    "print(\"Точный подсчет - %s\\nKD-Tree - %s\\nHNSW - %s\" % (acc_metr, kd_tree_metr, hnsw_metr))"
   ]
  },
  {
   "cell_type": "markdown",
   "id": "20726bd4",
   "metadata": {},
   "source": [
    "# Исходные ненормализованные эмбеддинги"
   ]
  },
  {
   "cell_type": "markdown",
   "id": "44fc1656",
   "metadata": {},
   "source": [
    "### Sk learn KD-Tree"
   ]
  },
  {
   "cell_type": "code",
   "execution_count": 20,
   "id": "0c20109b",
   "metadata": {},
   "outputs": [
    {
     "name": "stdout",
     "output_type": "stream",
     "text": [
      "Значение метрики 0.7313761393229166\n"
     ]
    }
   ],
   "source": [
    "indexes = []\n",
    "for i in range(iteration):\n",
    "    tree = KDTree(embs[i], leaf_size=40)  # creating kd tree\n",
    "    _, ind = tree.query(embs[i], k=K+1)# quering nearest items\n",
    "    indexes.append(ind)\n",
    "print(\"Значение метрики\", metric.calc_map(indexes, label))"
   ]
  },
  {
   "cell_type": "markdown",
   "id": "416a812f",
   "metadata": {},
   "source": [
    "### KD-Tree with cosine distance"
   ]
  },
  {
   "cell_type": "code",
   "execution_count": 21,
   "id": "1d34d32b",
   "metadata": {},
   "outputs": [
    {
     "name": "stdout",
     "output_type": "stream",
     "text": [
      "Значение метрики 0.6737527126736111\n"
     ]
    }
   ],
   "source": [
    "indexes = []\n",
    "for i in range(iteration):\n",
    "    cosine_tree = methods.KDTree(embs[i])\n",
    "    indexes.append(cosine_tree.search(embs[i]))\n",
    "print(\"Значение метрики\", metric.calc_map(indexes, label))"
   ]
  },
  {
   "cell_type": "markdown",
   "id": "d39fd1f0",
   "metadata": {},
   "source": [
    "### KNN with cosine distance"
   ]
  },
  {
   "cell_type": "code",
   "execution_count": 22,
   "id": "a0cfabc1",
   "metadata": {},
   "outputs": [
    {
     "name": "stdout",
     "output_type": "stream",
     "text": [
      "Значение метрики 0.7399457465277778\n"
     ]
    }
   ],
   "source": [
    "indexes = []\n",
    "for i in range(iteration):\n",
    "    cosine_knn = methods.DistributedCosineKnn(K)\n",
    "    ind, _ = cosine_knn.fit(embs[i])\n",
    "    indexes.append(ind)\n",
    "print(\"Значение метрики\", metric.calc_map(indexes, label))"
   ]
  },
  {
   "cell_type": "markdown",
   "id": "7cad57b4",
   "metadata": {},
   "source": [
    "### HNSW"
   ]
  },
  {
   "cell_type": "code",
   "execution_count": 23,
   "id": "d830610c",
   "metadata": {},
   "outputs": [
    {
     "name": "stdout",
     "output_type": "stream",
     "text": [
      "Значение метрики 0.733205837673611\n"
     ]
    }
   ],
   "source": [
    "ind = []\n",
    "for i in range(iteration):\n",
    "    hnsw = methods.HNSW(embs[i])\n",
    "    ind.append(hnsw.search(embs[i], embs[i], K+1))\n",
    "print(\"Значение метрики\", metric.calc_map(ind, label))"
   ]
  },
  {
   "cell_type": "markdown",
   "id": "32529be6",
   "metadata": {},
   "source": [
    "# PCA"
   ]
  },
  {
   "cell_type": "code",
   "execution_count": 24,
   "id": "57e9e133",
   "metadata": {},
   "outputs": [],
   "source": [
    "transformer = PCA(n_components=64)\n",
    "pca_data = []\n",
    "for i in range(iteration):\n",
    "    pca_data.append(transformer.fit_transform(embs[i]))"
   ]
  },
  {
   "cell_type": "markdown",
   "id": "f7ad3c02",
   "metadata": {},
   "source": [
    "### Sklearn KD-Tree"
   ]
  },
  {
   "cell_type": "code",
   "execution_count": 25,
   "id": "4ecf2a90",
   "metadata": {},
   "outputs": [
    {
     "name": "stdout",
     "output_type": "stream",
     "text": [
      "Значение метрики 0.7203445095486111\n"
     ]
    }
   ],
   "source": [
    "indexes = []\n",
    "for i in range(iteration):\n",
    "    tree = KDTree(pca_data[i], leaf_size=40)  # creating kd tree\n",
    "    _, ind = tree.query(pca_data[i], k=K+1)# quering nearest items\n",
    "    indexes.append(ind)\n",
    "print(\"Значение метрики\", metric.calc_map(indexes, label))"
   ]
  },
  {
   "cell_type": "markdown",
   "id": "e22d6429",
   "metadata": {},
   "source": [
    "### Cosine KD-Tree"
   ]
  },
  {
   "cell_type": "code",
   "execution_count": 26,
   "id": "051e945d",
   "metadata": {},
   "outputs": [
    {
     "name": "stdout",
     "output_type": "stream",
     "text": [
      "Значение метрики 0.6579511176215278\n"
     ]
    }
   ],
   "source": [
    "ind = []\n",
    "for i in range(iteration):\n",
    "    cosine_tree = methods.KDTree(pca_data[i], 0)\n",
    "    ind.append(cosine_tree.search(pca_data[i]))\n",
    "print(\"Значение метрики\", metric.calc_map(ind, label))"
   ]
  },
  {
   "cell_type": "markdown",
   "id": "7f714616",
   "metadata": {},
   "source": [
    "### KNN with cosine distance"
   ]
  },
  {
   "cell_type": "code",
   "execution_count": 27,
   "id": "0ff3ca9a",
   "metadata": {},
   "outputs": [
    {
     "name": "stdout",
     "output_type": "stream",
     "text": [
      "Значение метрики 0.7159098307291666\n"
     ]
    }
   ],
   "source": [
    "indexes = []\n",
    "for i in range(iteration):\n",
    "    cosine_knn = methods.DistributedCosineKnn(K)\n",
    "    ind, _ = cosine_knn.fit(pca_data[i])\n",
    "    indexes.append(ind)\n",
    "print(\"Значение метрики\", metric.calc_map(indexes, label))"
   ]
  },
  {
   "cell_type": "markdown",
   "id": "1211c66a",
   "metadata": {},
   "source": [
    "### HNSW"
   ]
  },
  {
   "cell_type": "code",
   "execution_count": 28,
   "id": "f4ad3e49",
   "metadata": {},
   "outputs": [
    {
     "name": "stdout",
     "output_type": "stream",
     "text": [
      "Значение метрики 0.707060818142361\n"
     ]
    }
   ],
   "source": [
    "ind = []\n",
    "for i in range(iteration):\n",
    "    hnsw = methods.HNSW(pca_data[i])\n",
    "    ind.append(hnsw.search(pca_data[i], pca_data[i], K+1))\n",
    "print(\"Значение метрики\", metric.calc_map(ind, label))"
   ]
  },
  {
   "cell_type": "markdown",
   "id": "63c3e62a",
   "metadata": {},
   "source": [
    "# TSNE"
   ]
  },
  {
   "cell_type": "code",
   "execution_count": 29,
   "id": "c830cab9",
   "metadata": {},
   "outputs": [],
   "source": [
    "X_embedded = []\n",
    "for i in range(iteration):\n",
    "    X_embedded.append(TSNE(n_components=3, learning_rate='auto', metric='cosine', init='pca', perplexity=1)\n",
    "                     .fit_transform(embs[i]))"
   ]
  },
  {
   "cell_type": "markdown",
   "id": "ba618e22",
   "metadata": {},
   "source": [
    "### Sklearn KD-Tree"
   ]
  },
  {
   "cell_type": "code",
   "execution_count": 30,
   "id": "824da4f2",
   "metadata": {},
   "outputs": [
    {
     "name": "stdout",
     "output_type": "stream",
     "text": [
      "Значение метрики 0.7913316514756945\n"
     ]
    }
   ],
   "source": [
    "indexes = []\n",
    "for i in range(iteration):\n",
    "    tree = KDTree(X_embedded[i], leaf_size=40)  # creating kd tree\n",
    "    _, ind = tree.query(X_embedded[i], k=K+1)# quering nearest items\n",
    "    indexes.append(ind)\n",
    "print(\"Значение метрики\", metric.calc_map(indexes, label))"
   ]
  },
  {
   "cell_type": "markdown",
   "id": "4646c0df",
   "metadata": {},
   "source": [
    "### Cosine KD-Tree"
   ]
  },
  {
   "cell_type": "code",
   "execution_count": 31,
   "id": "6096a3d2",
   "metadata": {},
   "outputs": [
    {
     "name": "stdout",
     "output_type": "stream",
     "text": [
      "Значение метрики 0.8553398980034722\n"
     ]
    }
   ],
   "source": [
    "ind = []\n",
    "for i in range(iteration):\n",
    "    cosine_tree = methods.KDTree(X_embedded[i], 0)\n",
    "    ind.append(cosine_tree.search(X_embedded[i]))\n",
    "print(\"Значение метрики\", metric.calc_map(ind, label))"
   ]
  },
  {
   "cell_type": "markdown",
   "id": "e4c62414",
   "metadata": {},
   "source": [
    "### KNN with cosine distance"
   ]
  },
  {
   "cell_type": "code",
   "execution_count": 32,
   "id": "a9f46e2e",
   "metadata": {},
   "outputs": [
    {
     "name": "stdout",
     "output_type": "stream",
     "text": [
      "Значение метрики 0.8108884006076389\n"
     ]
    }
   ],
   "source": [
    "indexes = []\n",
    "for i in range(iteration):\n",
    "    cosine_knn = methods.DistributedCosineKnn(K)\n",
    "    ind, _ = cosine_knn.fit(X_embedded[i])\n",
    "    indexes.append(ind)\n",
    "print(\"Значение метрики\", metric.calc_map(indexes, label))"
   ]
  },
  {
   "cell_type": "markdown",
   "id": "b1201294",
   "metadata": {},
   "source": [
    "### HNSW"
   ]
  },
  {
   "cell_type": "code",
   "execution_count": 33,
   "id": "1d087062",
   "metadata": {},
   "outputs": [
    {
     "name": "stdout",
     "output_type": "stream",
     "text": [
      "Значение метрики 0.8168608940972222\n"
     ]
    }
   ],
   "source": [
    "ind = []\n",
    "for i in range(iteration):\n",
    "    hnsw = methods.HNSW(X_embedded[i])\n",
    "    ind.append(hnsw.search(X_embedded[i], X_embedded[i], K+1))\n",
    "print(\"Значение метрики\", metric.calc_map(ind, label))"
   ]
  },
  {
   "cell_type": "code",
   "execution_count": null,
   "id": "a163da57",
   "metadata": {},
   "outputs": [],
   "source": []
  }
 ],
 "metadata": {
  "kernelspec": {
   "display_name": "Python 3 (ipykernel)",
   "language": "python",
   "name": "python3"
  },
  "language_info": {
   "codemirror_mode": {
    "name": "ipython",
    "version": 3
   },
   "file_extension": ".py",
   "mimetype": "text/x-python",
   "name": "python",
   "nbconvert_exporter": "python",
   "pygments_lexer": "ipython3",
   "version": "3.11.3"
  }
 },
 "nbformat": 4,
 "nbformat_minor": 5
}
